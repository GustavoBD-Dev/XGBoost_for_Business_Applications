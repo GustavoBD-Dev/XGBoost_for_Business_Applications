{
 "cells": [
  {
   "cell_type": "markdown",
   "id": "fb2e0fa7-3651-40ed-b4c4-13ec531acfcc",
   "metadata": {},
   "source": [
    "# XGBoost for business"
   ]
  },
  {
   "cell_type": "markdown",
   "id": "ea8f0885-712b-464e-8f61-d07b7d1bf30d",
   "metadata": {},
   "source": [
    "### Load data"
   ]
  },
  {
   "cell_type": "code",
   "execution_count": 1,
   "id": "6c7b675b-d1d4-4ea6-abef-d8587a5f0900",
   "metadata": {},
   "outputs": [],
   "source": [
    "#import libraries\n",
    "import pandas as pd\n",
    "import xgboost as xgb\n",
    "import numpy as np"
   ]
  },
  {
   "cell_type": "code",
   "execution_count": 3,
   "id": "17bae67a-6ea9-4ca6-8c74-74bc7816736e",
   "metadata": {},
   "outputs": [
    {
     "data": {
      "text/plain": [
       "age           int64\n",
       "job          object\n",
       "marital      object\n",
       "education    object\n",
       "default      object\n",
       "balance       int64\n",
       "housing      object\n",
       "loan         object\n",
       "contact      object\n",
       "day           int64\n",
       "month        object\n",
       "duration      int64\n",
       "campaign      int64\n",
       "pdays         int64\n",
       "previous      int64\n",
       "poutcome     object\n",
       "y            object\n",
       "dtype: object"
      ]
     },
     "execution_count": 3,
     "metadata": {},
     "output_type": "execute_result"
    }
   ],
   "source": [
    "#importing dataset\n",
    "dataset = pd.read_csv(\"bank-full.csv\", sep = \";\")\n",
    "dataset.dtypes"
   ]
  },
  {
   "cell_type": "code",
   "execution_count": 5,
   "id": "51782367-27a1-41ef-92a5-2722a066c36b",
   "metadata": {},
   "outputs": [
    {
     "data": {
      "text/html": [
       "<div>\n",
       "<style scoped>\n",
       "    .dataframe tbody tr th:only-of-type {\n",
       "        vertical-align: middle;\n",
       "    }\n",
       "\n",
       "    .dataframe tbody tr th {\n",
       "        vertical-align: top;\n",
       "    }\n",
       "\n",
       "    .dataframe thead th {\n",
       "        text-align: right;\n",
       "    }\n",
       "</style>\n",
       "<table border=\"1\" class=\"dataframe\">\n",
       "  <thead>\n",
       "    <tr style=\"text-align: right;\">\n",
       "      <th></th>\n",
       "      <th>age</th>\n",
       "      <th>job</th>\n",
       "      <th>marital</th>\n",
       "      <th>education</th>\n",
       "      <th>default</th>\n",
       "      <th>balance</th>\n",
       "      <th>housing</th>\n",
       "      <th>loan</th>\n",
       "      <th>contact</th>\n",
       "      <th>day</th>\n",
       "      <th>month</th>\n",
       "      <th>duration</th>\n",
       "      <th>campaign</th>\n",
       "      <th>pdays</th>\n",
       "      <th>previous</th>\n",
       "      <th>poutcome</th>\n",
       "      <th>y</th>\n",
       "    </tr>\n",
       "  </thead>\n",
       "  <tbody>\n",
       "    <tr>\n",
       "      <th>0</th>\n",
       "      <td>58</td>\n",
       "      <td>management</td>\n",
       "      <td>married</td>\n",
       "      <td>tertiary</td>\n",
       "      <td>no</td>\n",
       "      <td>2143</td>\n",
       "      <td>yes</td>\n",
       "      <td>no</td>\n",
       "      <td>unknown</td>\n",
       "      <td>5</td>\n",
       "      <td>may</td>\n",
       "      <td>261</td>\n",
       "      <td>1</td>\n",
       "      <td>-1</td>\n",
       "      <td>0</td>\n",
       "      <td>unknown</td>\n",
       "      <td>no</td>\n",
       "    </tr>\n",
       "    <tr>\n",
       "      <th>1</th>\n",
       "      <td>44</td>\n",
       "      <td>technician</td>\n",
       "      <td>single</td>\n",
       "      <td>secondary</td>\n",
       "      <td>no</td>\n",
       "      <td>29</td>\n",
       "      <td>yes</td>\n",
       "      <td>no</td>\n",
       "      <td>unknown</td>\n",
       "      <td>5</td>\n",
       "      <td>may</td>\n",
       "      <td>151</td>\n",
       "      <td>1</td>\n",
       "      <td>-1</td>\n",
       "      <td>0</td>\n",
       "      <td>unknown</td>\n",
       "      <td>no</td>\n",
       "    </tr>\n",
       "    <tr>\n",
       "      <th>2</th>\n",
       "      <td>33</td>\n",
       "      <td>entrepreneur</td>\n",
       "      <td>married</td>\n",
       "      <td>secondary</td>\n",
       "      <td>no</td>\n",
       "      <td>2</td>\n",
       "      <td>yes</td>\n",
       "      <td>yes</td>\n",
       "      <td>unknown</td>\n",
       "      <td>5</td>\n",
       "      <td>may</td>\n",
       "      <td>76</td>\n",
       "      <td>1</td>\n",
       "      <td>-1</td>\n",
       "      <td>0</td>\n",
       "      <td>unknown</td>\n",
       "      <td>no</td>\n",
       "    </tr>\n",
       "    <tr>\n",
       "      <th>3</th>\n",
       "      <td>47</td>\n",
       "      <td>blue-collar</td>\n",
       "      <td>married</td>\n",
       "      <td>unknown</td>\n",
       "      <td>no</td>\n",
       "      <td>1506</td>\n",
       "      <td>yes</td>\n",
       "      <td>no</td>\n",
       "      <td>unknown</td>\n",
       "      <td>5</td>\n",
       "      <td>may</td>\n",
       "      <td>92</td>\n",
       "      <td>1</td>\n",
       "      <td>-1</td>\n",
       "      <td>0</td>\n",
       "      <td>unknown</td>\n",
       "      <td>no</td>\n",
       "    </tr>\n",
       "    <tr>\n",
       "      <th>4</th>\n",
       "      <td>33</td>\n",
       "      <td>unknown</td>\n",
       "      <td>single</td>\n",
       "      <td>unknown</td>\n",
       "      <td>no</td>\n",
       "      <td>1</td>\n",
       "      <td>no</td>\n",
       "      <td>no</td>\n",
       "      <td>unknown</td>\n",
       "      <td>5</td>\n",
       "      <td>may</td>\n",
       "      <td>198</td>\n",
       "      <td>1</td>\n",
       "      <td>-1</td>\n",
       "      <td>0</td>\n",
       "      <td>unknown</td>\n",
       "      <td>no</td>\n",
       "    </tr>\n",
       "    <tr>\n",
       "      <th>...</th>\n",
       "      <td>...</td>\n",
       "      <td>...</td>\n",
       "      <td>...</td>\n",
       "      <td>...</td>\n",
       "      <td>...</td>\n",
       "      <td>...</td>\n",
       "      <td>...</td>\n",
       "      <td>...</td>\n",
       "      <td>...</td>\n",
       "      <td>...</td>\n",
       "      <td>...</td>\n",
       "      <td>...</td>\n",
       "      <td>...</td>\n",
       "      <td>...</td>\n",
       "      <td>...</td>\n",
       "      <td>...</td>\n",
       "      <td>...</td>\n",
       "    </tr>\n",
       "    <tr>\n",
       "      <th>45206</th>\n",
       "      <td>51</td>\n",
       "      <td>technician</td>\n",
       "      <td>married</td>\n",
       "      <td>tertiary</td>\n",
       "      <td>no</td>\n",
       "      <td>825</td>\n",
       "      <td>no</td>\n",
       "      <td>no</td>\n",
       "      <td>cellular</td>\n",
       "      <td>17</td>\n",
       "      <td>nov</td>\n",
       "      <td>977</td>\n",
       "      <td>3</td>\n",
       "      <td>-1</td>\n",
       "      <td>0</td>\n",
       "      <td>unknown</td>\n",
       "      <td>yes</td>\n",
       "    </tr>\n",
       "    <tr>\n",
       "      <th>45207</th>\n",
       "      <td>71</td>\n",
       "      <td>retired</td>\n",
       "      <td>divorced</td>\n",
       "      <td>primary</td>\n",
       "      <td>no</td>\n",
       "      <td>1729</td>\n",
       "      <td>no</td>\n",
       "      <td>no</td>\n",
       "      <td>cellular</td>\n",
       "      <td>17</td>\n",
       "      <td>nov</td>\n",
       "      <td>456</td>\n",
       "      <td>2</td>\n",
       "      <td>-1</td>\n",
       "      <td>0</td>\n",
       "      <td>unknown</td>\n",
       "      <td>yes</td>\n",
       "    </tr>\n",
       "    <tr>\n",
       "      <th>45208</th>\n",
       "      <td>72</td>\n",
       "      <td>retired</td>\n",
       "      <td>married</td>\n",
       "      <td>secondary</td>\n",
       "      <td>no</td>\n",
       "      <td>5715</td>\n",
       "      <td>no</td>\n",
       "      <td>no</td>\n",
       "      <td>cellular</td>\n",
       "      <td>17</td>\n",
       "      <td>nov</td>\n",
       "      <td>1127</td>\n",
       "      <td>5</td>\n",
       "      <td>184</td>\n",
       "      <td>3</td>\n",
       "      <td>success</td>\n",
       "      <td>yes</td>\n",
       "    </tr>\n",
       "    <tr>\n",
       "      <th>45209</th>\n",
       "      <td>57</td>\n",
       "      <td>blue-collar</td>\n",
       "      <td>married</td>\n",
       "      <td>secondary</td>\n",
       "      <td>no</td>\n",
       "      <td>668</td>\n",
       "      <td>no</td>\n",
       "      <td>no</td>\n",
       "      <td>telephone</td>\n",
       "      <td>17</td>\n",
       "      <td>nov</td>\n",
       "      <td>508</td>\n",
       "      <td>4</td>\n",
       "      <td>-1</td>\n",
       "      <td>0</td>\n",
       "      <td>unknown</td>\n",
       "      <td>no</td>\n",
       "    </tr>\n",
       "    <tr>\n",
       "      <th>45210</th>\n",
       "      <td>37</td>\n",
       "      <td>entrepreneur</td>\n",
       "      <td>married</td>\n",
       "      <td>secondary</td>\n",
       "      <td>no</td>\n",
       "      <td>2971</td>\n",
       "      <td>no</td>\n",
       "      <td>no</td>\n",
       "      <td>cellular</td>\n",
       "      <td>17</td>\n",
       "      <td>nov</td>\n",
       "      <td>361</td>\n",
       "      <td>2</td>\n",
       "      <td>188</td>\n",
       "      <td>11</td>\n",
       "      <td>other</td>\n",
       "      <td>no</td>\n",
       "    </tr>\n",
       "  </tbody>\n",
       "</table>\n",
       "<p>45211 rows × 17 columns</p>\n",
       "</div>"
      ],
      "text/plain": [
       "       age           job   marital  education default  balance housing loan  \\\n",
       "0       58    management   married   tertiary      no     2143     yes   no   \n",
       "1       44    technician    single  secondary      no       29     yes   no   \n",
       "2       33  entrepreneur   married  secondary      no        2     yes  yes   \n",
       "3       47   blue-collar   married    unknown      no     1506     yes   no   \n",
       "4       33       unknown    single    unknown      no        1      no   no   \n",
       "...    ...           ...       ...        ...     ...      ...     ...  ...   \n",
       "45206   51    technician   married   tertiary      no      825      no   no   \n",
       "45207   71       retired  divorced    primary      no     1729      no   no   \n",
       "45208   72       retired   married  secondary      no     5715      no   no   \n",
       "45209   57   blue-collar   married  secondary      no      668      no   no   \n",
       "45210   37  entrepreneur   married  secondary      no     2971      no   no   \n",
       "\n",
       "         contact  day month  duration  campaign  pdays  previous poutcome    y  \n",
       "0        unknown    5   may       261         1     -1         0  unknown   no  \n",
       "1        unknown    5   may       151         1     -1         0  unknown   no  \n",
       "2        unknown    5   may        76         1     -1         0  unknown   no  \n",
       "3        unknown    5   may        92         1     -1         0  unknown   no  \n",
       "4        unknown    5   may       198         1     -1         0  unknown   no  \n",
       "...          ...  ...   ...       ...       ...    ...       ...      ...  ...  \n",
       "45206   cellular   17   nov       977         3     -1         0  unknown  yes  \n",
       "45207   cellular   17   nov       456         2     -1         0  unknown  yes  \n",
       "45208   cellular   17   nov      1127         5    184         3  success  yes  \n",
       "45209  telephone   17   nov       508         4     -1         0  unknown   no  \n",
       "45210   cellular   17   nov       361         2    188        11    other   no  \n",
       "\n",
       "[45211 rows x 17 columns]"
      ]
     },
     "execution_count": 5,
     "metadata": {},
     "output_type": "execute_result"
    }
   ],
   "source": [
    "dataset"
   ]
  },
  {
   "cell_type": "code",
   "execution_count": 7,
   "id": "9270a6c5-7526-48ed-b33c-fbc054cc8af2",
   "metadata": {},
   "outputs": [
    {
     "data": {
      "text/plain": [
       "age          0\n",
       "job          0\n",
       "marital      0\n",
       "education    0\n",
       "default      0\n",
       "balance      0\n",
       "housing      0\n",
       "loan         0\n",
       "contact      0\n",
       "day          0\n",
       "month        0\n",
       "duration     0\n",
       "campaign     0\n",
       "pdays        0\n",
       "previous     0\n",
       "poutcome     0\n",
       "y            0\n",
       "dtype: int64"
      ]
     },
     "execution_count": 7,
     "metadata": {},
     "output_type": "execute_result"
    }
   ],
   "source": [
    "dataset.isnull().sum()"
   ]
  },
  {
   "cell_type": "code",
   "execution_count": 9,
   "id": "3f359caf-aebb-4590-9b98-fae45253c3af",
   "metadata": {},
   "outputs": [],
   "source": [
    "#isolate the x and y variables\n",
    "y = dataset.iloc[:, -1].values\n",
    "X = dataset._get_numeric_data()"
   ]
  },
  {
   "cell_type": "code",
   "execution_count": 11,
   "id": "2723c08b-5ba8-47d7-8f49-5bda5bbb61a6",
   "metadata": {},
   "outputs": [
    {
     "data": {
      "text/html": [
       "<div>\n",
       "<style scoped>\n",
       "    .dataframe tbody tr th:only-of-type {\n",
       "        vertical-align: middle;\n",
       "    }\n",
       "\n",
       "    .dataframe tbody tr th {\n",
       "        vertical-align: top;\n",
       "    }\n",
       "\n",
       "    .dataframe thead th {\n",
       "        text-align: right;\n",
       "    }\n",
       "</style>\n",
       "<table border=\"1\" class=\"dataframe\">\n",
       "  <thead>\n",
       "    <tr style=\"text-align: right;\">\n",
       "      <th></th>\n",
       "      <th>age</th>\n",
       "      <th>balance</th>\n",
       "      <th>day</th>\n",
       "      <th>duration</th>\n",
       "      <th>campaign</th>\n",
       "      <th>pdays</th>\n",
       "      <th>previous</th>\n",
       "    </tr>\n",
       "  </thead>\n",
       "  <tbody>\n",
       "    <tr>\n",
       "      <th>count</th>\n",
       "      <td>45211.00</td>\n",
       "      <td>45211.00</td>\n",
       "      <td>45211.00</td>\n",
       "      <td>45211.00</td>\n",
       "      <td>45211.00</td>\n",
       "      <td>45211.00</td>\n",
       "      <td>45211.00</td>\n",
       "    </tr>\n",
       "    <tr>\n",
       "      <th>mean</th>\n",
       "      <td>40.94</td>\n",
       "      <td>1362.27</td>\n",
       "      <td>15.81</td>\n",
       "      <td>258.16</td>\n",
       "      <td>2.76</td>\n",
       "      <td>40.20</td>\n",
       "      <td>0.58</td>\n",
       "    </tr>\n",
       "    <tr>\n",
       "      <th>std</th>\n",
       "      <td>10.62</td>\n",
       "      <td>3044.77</td>\n",
       "      <td>8.32</td>\n",
       "      <td>257.53</td>\n",
       "      <td>3.10</td>\n",
       "      <td>100.13</td>\n",
       "      <td>2.30</td>\n",
       "    </tr>\n",
       "    <tr>\n",
       "      <th>min</th>\n",
       "      <td>18.00</td>\n",
       "      <td>-8019.00</td>\n",
       "      <td>1.00</td>\n",
       "      <td>0.00</td>\n",
       "      <td>1.00</td>\n",
       "      <td>-1.00</td>\n",
       "      <td>0.00</td>\n",
       "    </tr>\n",
       "    <tr>\n",
       "      <th>25%</th>\n",
       "      <td>33.00</td>\n",
       "      <td>72.00</td>\n",
       "      <td>8.00</td>\n",
       "      <td>103.00</td>\n",
       "      <td>1.00</td>\n",
       "      <td>-1.00</td>\n",
       "      <td>0.00</td>\n",
       "    </tr>\n",
       "    <tr>\n",
       "      <th>50%</th>\n",
       "      <td>39.00</td>\n",
       "      <td>448.00</td>\n",
       "      <td>16.00</td>\n",
       "      <td>180.00</td>\n",
       "      <td>2.00</td>\n",
       "      <td>-1.00</td>\n",
       "      <td>0.00</td>\n",
       "    </tr>\n",
       "    <tr>\n",
       "      <th>75%</th>\n",
       "      <td>48.00</td>\n",
       "      <td>1428.00</td>\n",
       "      <td>21.00</td>\n",
       "      <td>319.00</td>\n",
       "      <td>3.00</td>\n",
       "      <td>-1.00</td>\n",
       "      <td>0.00</td>\n",
       "    </tr>\n",
       "    <tr>\n",
       "      <th>max</th>\n",
       "      <td>95.00</td>\n",
       "      <td>102127.00</td>\n",
       "      <td>31.00</td>\n",
       "      <td>4918.00</td>\n",
       "      <td>63.00</td>\n",
       "      <td>871.00</td>\n",
       "      <td>275.00</td>\n",
       "    </tr>\n",
       "  </tbody>\n",
       "</table>\n",
       "</div>"
      ],
      "text/plain": [
       "            age    balance       day  duration  campaign     pdays  previous\n",
       "count  45211.00   45211.00  45211.00  45211.00  45211.00  45211.00  45211.00\n",
       "mean      40.94    1362.27     15.81    258.16      2.76     40.20      0.58\n",
       "std       10.62    3044.77      8.32    257.53      3.10    100.13      2.30\n",
       "min       18.00   -8019.00      1.00      0.00      1.00     -1.00      0.00\n",
       "25%       33.00      72.00      8.00    103.00      1.00     -1.00      0.00\n",
       "50%       39.00     448.00     16.00    180.00      2.00     -1.00      0.00\n",
       "75%       48.00    1428.00     21.00    319.00      3.00     -1.00      0.00\n",
       "max       95.00  102127.00     31.00   4918.00     63.00    871.00    275.00"
      ]
     },
     "execution_count": 11,
     "metadata": {},
     "output_type": "execute_result"
    }
   ],
   "source": [
    "round(dataset.describe(), 2)"
   ]
  },
  {
   "cell_type": "code",
   "execution_count": 13,
   "id": "62a0a936-9f25-4ddd-9cd1-7c2e2f806881",
   "metadata": {},
   "outputs": [
    {
     "name": "stdout",
     "output_type": "stream",
     "text": [
      "X 45211\n",
      "y 45211\n"
     ]
    }
   ],
   "source": [
    "print(\"X\" , len(X))\n",
    "print(\"y\" , len(y))"
   ]
  },
  {
   "cell_type": "code",
   "execution_count": 15,
   "id": "812320df-4fbb-4ae7-88c0-87af5aa5b501",
   "metadata": {},
   "outputs": [],
   "source": [
    "#split dataset into training and test set\n",
    "from sklearn.model_selection import train_test_split\n",
    "X_train, X_test, y_train, y_test = train_test_split(X, y, test_size =0.2, random_state=1502)"
   ]
  },
  {
   "cell_type": "code",
   "execution_count": 17,
   "id": "ae13603a-4aad-4587-a19e-5cc267dcedd4",
   "metadata": {},
   "outputs": [
    {
     "name": "stdout",
     "output_type": "stream",
     "text": [
      "X_train : 36168\n",
      "X_tests : 9043\n",
      "y_train : 36168\n",
      "y_tests : 9043\n"
     ]
    }
   ],
   "source": [
    "print(\"X_train :\" , len(X_train))\n",
    "print(\"X_tests :\" , len(X_test))\n",
    "print(\"y_train :\" , len(y_train))\n",
    "print(\"y_tests :\" , len(y_test))"
   ]
  },
  {
   "cell_type": "code",
   "execution_count": 19,
   "id": "9a5a0463-5978-4a0e-b89d-83b6d1711a11",
   "metadata": {},
   "outputs": [],
   "source": [
    "#transform y factor variables\n",
    "y_train = np.where(y_train == \"yes\", 1, 0)\n",
    "y_test = np.where(y_test == \"yes\", 1, 0)"
   ]
  },
  {
   "cell_type": "code",
   "execution_count": 21,
   "id": "3411588d-4078-447f-915c-690eecbf6122",
   "metadata": {},
   "outputs": [
    {
     "data": {
      "text/plain": [
       "array([0, 0, 0, ..., 1, 0, 0])"
      ]
     },
     "execution_count": 21,
     "metadata": {},
     "output_type": "execute_result"
    }
   ],
   "source": [
    "y_train"
   ]
  },
  {
   "cell_type": "code",
   "execution_count": 23,
   "id": "a59291fa-a4ff-4efd-92a8-f62fb7eeca36",
   "metadata": {},
   "outputs": [
    {
     "data": {
      "text/plain": [
       "array([0, 0, 0, ..., 0, 1, 0])"
      ]
     },
     "execution_count": 23,
     "metadata": {},
     "output_type": "execute_result"
    }
   ],
   "source": [
    "y_test"
   ]
  },
  {
   "cell_type": "code",
   "execution_count": 25,
   "id": "baf573da-7303-49ed-9c3b-dc00c92222cf",
   "metadata": {},
   "outputs": [
    {
     "name": "stdout",
     "output_type": "stream",
     "text": [
      "mean y_train : 0.11579296615792967\n",
      "mean y_test  : 0.12175163109587527\n"
     ]
    }
   ],
   "source": [
    "print(\"mean y_train :\" , np.mean(y_train))\n",
    "print(\"mean y_test  :\" , np.mean(y_test))"
   ]
  },
  {
   "cell_type": "code",
   "execution_count": 27,
   "id": "be4009b9-c3a9-4d1f-bfeb-34d214f45fc3",
   "metadata": {},
   "outputs": [],
   "source": [
    "#create xgboost matrices\n",
    "Train = xgb.DMatrix(X_train, label = y_train)\n",
    "Test = xgb.DMatrix(X_test, label = y_test)"
   ]
  },
  {
   "cell_type": "code",
   "execution_count": 29,
   "id": "006c6da2-ac97-4cba-9c66-549175144f1d",
   "metadata": {},
   "outputs": [],
   "source": [
    "#set the parameters\n",
    "parameters1 = {'learning_rate': 0.3,\n",
    "               'max_depth': 2,\n",
    "               'colsample_bytree': 1,\n",
    "               'subsample': 1,\n",
    "               'min_child_weight': 1,\n",
    "               'gamma': 0, \n",
    "               'random_state': 1502,\n",
    "               'eval_metric': \"auc\",\n",
    "               'objective': \"binary:logistic\"}"
   ]
  },
  {
   "cell_type": "code",
   "execution_count": 31,
   "id": "49a4f492-c445-41d1-a9f6-9d69ea5427d7",
   "metadata": {},
   "outputs": [
    {
     "name": "stdout",
     "output_type": "stream",
     "text": [
      "[0]\tYes-auc:0.75049\n",
      "[50]\tYes-auc:0.87633\n",
      "[100]\tYes-auc:0.88087\n",
      "[150]\tYes-auc:0.88275\n",
      "[199]\tYes-auc:0.88375\n"
     ]
    }
   ],
   "source": [
    "#run XGBoost\n",
    "model1 = xgb.train(params = parameters1,\n",
    "                   dtrain = Train,\n",
    "                   num_boost_round = 200,\n",
    "                   evals = [(Test, \"Yes\")],\n",
    "                   verbose_eval = 50)"
   ]
  },
  {
   "cell_type": "code",
   "execution_count": 33,
   "id": "96798b53-64e1-4a72-b6df-89a98afbb776",
   "metadata": {},
   "outputs": [],
   "source": [
    "#Predictions\n",
    "predictions1 = model1.predict(Test)\n",
    "predictions1 = np.where(predictions1 > 0.5, 1, 0)"
   ]
  },
  {
   "cell_type": "code",
   "execution_count": 35,
   "id": "50cba384-4501-4585-bd2f-3b4c5c63abc5",
   "metadata": {},
   "outputs": [
    {
     "name": "stdout",
     "output_type": "stream",
     "text": [
      "[[7690  252]\n",
      " [ 736  365]]\n",
      "              precision    recall  f1-score   support\n",
      "\n",
      "           0       0.91      0.97      0.94      7942\n",
      "           1       0.59      0.33      0.42      1101\n",
      "\n",
      "    accuracy                           0.89      9043\n",
      "   macro avg       0.75      0.65      0.68      9043\n",
      "weighted avg       0.87      0.89      0.88      9043\n",
      "\n"
     ]
    }
   ],
   "source": [
    "#Confusion MAtrix\n",
    "from sklearn.metrics import confusion_matrix\n",
    "from sklearn.metrics import classification_report\n",
    "confusion_matrix1 = confusion_matrix(y_test, predictions1)\n",
    "print(confusion_matrix1)\n",
    "report1 = classification_report(y_test, predictions1)\n",
    "print(report1)"
   ]
  },
  {
   "cell_type": "code",
   "execution_count": 63,
   "id": "907c5703-088c-414e-858a-1b033b19e484",
   "metadata": {},
   "outputs": [
    {
     "data": {
      "text/plain": [
       "array([[7690,  252],\n",
       "       [ 736,  365]])"
      ]
     },
     "execution_count": 63,
     "metadata": {},
     "output_type": "execute_result"
    }
   ],
   "source": [
    "confusion_matrix(y_test, predictions1)"
   ]
  },
  {
   "cell_type": "code",
   "execution_count": 65,
   "id": "a33a5f98-ec88-4fe7-9593-d24c3fd269a5",
   "metadata": {},
   "outputs": [],
   "source": [
    "#isolate the categorical variables\n",
    "dataset_categorical = dataset.select_dtypes(exclude = \"number\")"
   ]
  },
  {
   "cell_type": "code",
   "execution_count": 67,
   "id": "be1763fb-d1fe-4e5c-9278-0b3083f29372",
   "metadata": {},
   "outputs": [
    {
     "data": {
      "text/html": [
       "<div>\n",
       "<style scoped>\n",
       "    .dataframe tbody tr th:only-of-type {\n",
       "        vertical-align: middle;\n",
       "    }\n",
       "\n",
       "    .dataframe tbody tr th {\n",
       "        vertical-align: top;\n",
       "    }\n",
       "\n",
       "    .dataframe thead th {\n",
       "        text-align: right;\n",
       "    }\n",
       "</style>\n",
       "<table border=\"1\" class=\"dataframe\">\n",
       "  <thead>\n",
       "    <tr style=\"text-align: right;\">\n",
       "      <th></th>\n",
       "      <th>job</th>\n",
       "      <th>marital</th>\n",
       "      <th>education</th>\n",
       "      <th>default</th>\n",
       "      <th>housing</th>\n",
       "      <th>loan</th>\n",
       "      <th>contact</th>\n",
       "      <th>month</th>\n",
       "      <th>poutcome</th>\n",
       "      <th>y</th>\n",
       "    </tr>\n",
       "  </thead>\n",
       "  <tbody>\n",
       "    <tr>\n",
       "      <th>0</th>\n",
       "      <td>management</td>\n",
       "      <td>married</td>\n",
       "      <td>tertiary</td>\n",
       "      <td>no</td>\n",
       "      <td>yes</td>\n",
       "      <td>no</td>\n",
       "      <td>unknown</td>\n",
       "      <td>may</td>\n",
       "      <td>unknown</td>\n",
       "      <td>no</td>\n",
       "    </tr>\n",
       "    <tr>\n",
       "      <th>1</th>\n",
       "      <td>technician</td>\n",
       "      <td>single</td>\n",
       "      <td>secondary</td>\n",
       "      <td>no</td>\n",
       "      <td>yes</td>\n",
       "      <td>no</td>\n",
       "      <td>unknown</td>\n",
       "      <td>may</td>\n",
       "      <td>unknown</td>\n",
       "      <td>no</td>\n",
       "    </tr>\n",
       "    <tr>\n",
       "      <th>2</th>\n",
       "      <td>entrepreneur</td>\n",
       "      <td>married</td>\n",
       "      <td>secondary</td>\n",
       "      <td>no</td>\n",
       "      <td>yes</td>\n",
       "      <td>yes</td>\n",
       "      <td>unknown</td>\n",
       "      <td>may</td>\n",
       "      <td>unknown</td>\n",
       "      <td>no</td>\n",
       "    </tr>\n",
       "    <tr>\n",
       "      <th>3</th>\n",
       "      <td>blue-collar</td>\n",
       "      <td>married</td>\n",
       "      <td>unknown</td>\n",
       "      <td>no</td>\n",
       "      <td>yes</td>\n",
       "      <td>no</td>\n",
       "      <td>unknown</td>\n",
       "      <td>may</td>\n",
       "      <td>unknown</td>\n",
       "      <td>no</td>\n",
       "    </tr>\n",
       "    <tr>\n",
       "      <th>4</th>\n",
       "      <td>unknown</td>\n",
       "      <td>single</td>\n",
       "      <td>unknown</td>\n",
       "      <td>no</td>\n",
       "      <td>no</td>\n",
       "      <td>no</td>\n",
       "      <td>unknown</td>\n",
       "      <td>may</td>\n",
       "      <td>unknown</td>\n",
       "      <td>no</td>\n",
       "    </tr>\n",
       "    <tr>\n",
       "      <th>...</th>\n",
       "      <td>...</td>\n",
       "      <td>...</td>\n",
       "      <td>...</td>\n",
       "      <td>...</td>\n",
       "      <td>...</td>\n",
       "      <td>...</td>\n",
       "      <td>...</td>\n",
       "      <td>...</td>\n",
       "      <td>...</td>\n",
       "      <td>...</td>\n",
       "    </tr>\n",
       "    <tr>\n",
       "      <th>45206</th>\n",
       "      <td>technician</td>\n",
       "      <td>married</td>\n",
       "      <td>tertiary</td>\n",
       "      <td>no</td>\n",
       "      <td>no</td>\n",
       "      <td>no</td>\n",
       "      <td>cellular</td>\n",
       "      <td>nov</td>\n",
       "      <td>unknown</td>\n",
       "      <td>yes</td>\n",
       "    </tr>\n",
       "    <tr>\n",
       "      <th>45207</th>\n",
       "      <td>retired</td>\n",
       "      <td>divorced</td>\n",
       "      <td>primary</td>\n",
       "      <td>no</td>\n",
       "      <td>no</td>\n",
       "      <td>no</td>\n",
       "      <td>cellular</td>\n",
       "      <td>nov</td>\n",
       "      <td>unknown</td>\n",
       "      <td>yes</td>\n",
       "    </tr>\n",
       "    <tr>\n",
       "      <th>45208</th>\n",
       "      <td>retired</td>\n",
       "      <td>married</td>\n",
       "      <td>secondary</td>\n",
       "      <td>no</td>\n",
       "      <td>no</td>\n",
       "      <td>no</td>\n",
       "      <td>cellular</td>\n",
       "      <td>nov</td>\n",
       "      <td>success</td>\n",
       "      <td>yes</td>\n",
       "    </tr>\n",
       "    <tr>\n",
       "      <th>45209</th>\n",
       "      <td>blue-collar</td>\n",
       "      <td>married</td>\n",
       "      <td>secondary</td>\n",
       "      <td>no</td>\n",
       "      <td>no</td>\n",
       "      <td>no</td>\n",
       "      <td>telephone</td>\n",
       "      <td>nov</td>\n",
       "      <td>unknown</td>\n",
       "      <td>no</td>\n",
       "    </tr>\n",
       "    <tr>\n",
       "      <th>45210</th>\n",
       "      <td>entrepreneur</td>\n",
       "      <td>married</td>\n",
       "      <td>secondary</td>\n",
       "      <td>no</td>\n",
       "      <td>no</td>\n",
       "      <td>no</td>\n",
       "      <td>cellular</td>\n",
       "      <td>nov</td>\n",
       "      <td>other</td>\n",
       "      <td>no</td>\n",
       "    </tr>\n",
       "  </tbody>\n",
       "</table>\n",
       "<p>45211 rows × 10 columns</p>\n",
       "</div>"
      ],
      "text/plain": [
       "                job   marital  education default housing loan    contact  \\\n",
       "0        management   married   tertiary      no     yes   no    unknown   \n",
       "1        technician    single  secondary      no     yes   no    unknown   \n",
       "2      entrepreneur   married  secondary      no     yes  yes    unknown   \n",
       "3       blue-collar   married    unknown      no     yes   no    unknown   \n",
       "4           unknown    single    unknown      no      no   no    unknown   \n",
       "...             ...       ...        ...     ...     ...  ...        ...   \n",
       "45206    technician   married   tertiary      no      no   no   cellular   \n",
       "45207       retired  divorced    primary      no      no   no   cellular   \n",
       "45208       retired   married  secondary      no      no   no   cellular   \n",
       "45209   blue-collar   married  secondary      no      no   no  telephone   \n",
       "45210  entrepreneur   married  secondary      no      no   no   cellular   \n",
       "\n",
       "      month poutcome    y  \n",
       "0       may  unknown   no  \n",
       "1       may  unknown   no  \n",
       "2       may  unknown   no  \n",
       "3       may  unknown   no  \n",
       "4       may  unknown   no  \n",
       "...     ...      ...  ...  \n",
       "45206   nov  unknown  yes  \n",
       "45207   nov  unknown  yes  \n",
       "45208   nov  success  yes  \n",
       "45209   nov  unknown   no  \n",
       "45210   nov    other   no  \n",
       "\n",
       "[45211 rows x 10 columns]"
      ]
     },
     "execution_count": 67,
     "metadata": {},
     "output_type": "execute_result"
    }
   ],
   "source": [
    "dataset_categorical"
   ]
  },
  {
   "cell_type": "code",
   "execution_count": 69,
   "id": "b4db9214-88c8-4b61-8d2d-0111e15da461",
   "metadata": {},
   "outputs": [],
   "source": [
    "#tranform categorical variables into dummy variables\n",
    "dataset_categorical = pd.get_dummies(data = dataset_categorical,\n",
    "                                     ##dtype=float, # default boolean\n",
    "                                     drop_first = True)"
   ]
  },
  {
   "cell_type": "code",
   "execution_count": 71,
   "id": "3b25df7f-6673-4711-9604-ab6aa853521b",
   "metadata": {},
   "outputs": [
    {
     "data": {
      "text/html": [
       "<div>\n",
       "<style scoped>\n",
       "    .dataframe tbody tr th:only-of-type {\n",
       "        vertical-align: middle;\n",
       "    }\n",
       "\n",
       "    .dataframe tbody tr th {\n",
       "        vertical-align: top;\n",
       "    }\n",
       "\n",
       "    .dataframe thead th {\n",
       "        text-align: right;\n",
       "    }\n",
       "</style>\n",
       "<table border=\"1\" class=\"dataframe\">\n",
       "  <thead>\n",
       "    <tr style=\"text-align: right;\">\n",
       "      <th></th>\n",
       "      <th>job_blue-collar</th>\n",
       "      <th>job_entrepreneur</th>\n",
       "      <th>job_housemaid</th>\n",
       "      <th>job_management</th>\n",
       "      <th>job_retired</th>\n",
       "      <th>job_self-employed</th>\n",
       "      <th>job_services</th>\n",
       "      <th>job_student</th>\n",
       "      <th>job_technician</th>\n",
       "      <th>job_unemployed</th>\n",
       "      <th>...</th>\n",
       "      <th>month_jun</th>\n",
       "      <th>month_mar</th>\n",
       "      <th>month_may</th>\n",
       "      <th>month_nov</th>\n",
       "      <th>month_oct</th>\n",
       "      <th>month_sep</th>\n",
       "      <th>poutcome_other</th>\n",
       "      <th>poutcome_success</th>\n",
       "      <th>poutcome_unknown</th>\n",
       "      <th>y_yes</th>\n",
       "    </tr>\n",
       "  </thead>\n",
       "  <tbody>\n",
       "    <tr>\n",
       "      <th>0</th>\n",
       "      <td>False</td>\n",
       "      <td>False</td>\n",
       "      <td>False</td>\n",
       "      <td>True</td>\n",
       "      <td>False</td>\n",
       "      <td>False</td>\n",
       "      <td>False</td>\n",
       "      <td>False</td>\n",
       "      <td>False</td>\n",
       "      <td>False</td>\n",
       "      <td>...</td>\n",
       "      <td>False</td>\n",
       "      <td>False</td>\n",
       "      <td>True</td>\n",
       "      <td>False</td>\n",
       "      <td>False</td>\n",
       "      <td>False</td>\n",
       "      <td>False</td>\n",
       "      <td>False</td>\n",
       "      <td>True</td>\n",
       "      <td>False</td>\n",
       "    </tr>\n",
       "    <tr>\n",
       "      <th>1</th>\n",
       "      <td>False</td>\n",
       "      <td>False</td>\n",
       "      <td>False</td>\n",
       "      <td>False</td>\n",
       "      <td>False</td>\n",
       "      <td>False</td>\n",
       "      <td>False</td>\n",
       "      <td>False</td>\n",
       "      <td>True</td>\n",
       "      <td>False</td>\n",
       "      <td>...</td>\n",
       "      <td>False</td>\n",
       "      <td>False</td>\n",
       "      <td>True</td>\n",
       "      <td>False</td>\n",
       "      <td>False</td>\n",
       "      <td>False</td>\n",
       "      <td>False</td>\n",
       "      <td>False</td>\n",
       "      <td>True</td>\n",
       "      <td>False</td>\n",
       "    </tr>\n",
       "    <tr>\n",
       "      <th>2</th>\n",
       "      <td>False</td>\n",
       "      <td>True</td>\n",
       "      <td>False</td>\n",
       "      <td>False</td>\n",
       "      <td>False</td>\n",
       "      <td>False</td>\n",
       "      <td>False</td>\n",
       "      <td>False</td>\n",
       "      <td>False</td>\n",
       "      <td>False</td>\n",
       "      <td>...</td>\n",
       "      <td>False</td>\n",
       "      <td>False</td>\n",
       "      <td>True</td>\n",
       "      <td>False</td>\n",
       "      <td>False</td>\n",
       "      <td>False</td>\n",
       "      <td>False</td>\n",
       "      <td>False</td>\n",
       "      <td>True</td>\n",
       "      <td>False</td>\n",
       "    </tr>\n",
       "    <tr>\n",
       "      <th>3</th>\n",
       "      <td>True</td>\n",
       "      <td>False</td>\n",
       "      <td>False</td>\n",
       "      <td>False</td>\n",
       "      <td>False</td>\n",
       "      <td>False</td>\n",
       "      <td>False</td>\n",
       "      <td>False</td>\n",
       "      <td>False</td>\n",
       "      <td>False</td>\n",
       "      <td>...</td>\n",
       "      <td>False</td>\n",
       "      <td>False</td>\n",
       "      <td>True</td>\n",
       "      <td>False</td>\n",
       "      <td>False</td>\n",
       "      <td>False</td>\n",
       "      <td>False</td>\n",
       "      <td>False</td>\n",
       "      <td>True</td>\n",
       "      <td>False</td>\n",
       "    </tr>\n",
       "    <tr>\n",
       "      <th>4</th>\n",
       "      <td>False</td>\n",
       "      <td>False</td>\n",
       "      <td>False</td>\n",
       "      <td>False</td>\n",
       "      <td>False</td>\n",
       "      <td>False</td>\n",
       "      <td>False</td>\n",
       "      <td>False</td>\n",
       "      <td>False</td>\n",
       "      <td>False</td>\n",
       "      <td>...</td>\n",
       "      <td>False</td>\n",
       "      <td>False</td>\n",
       "      <td>True</td>\n",
       "      <td>False</td>\n",
       "      <td>False</td>\n",
       "      <td>False</td>\n",
       "      <td>False</td>\n",
       "      <td>False</td>\n",
       "      <td>True</td>\n",
       "      <td>False</td>\n",
       "    </tr>\n",
       "  </tbody>\n",
       "</table>\n",
       "<p>5 rows × 36 columns</p>\n",
       "</div>"
      ],
      "text/plain": [
       "   job_blue-collar  job_entrepreneur  job_housemaid  job_management  \\\n",
       "0            False             False          False            True   \n",
       "1            False             False          False           False   \n",
       "2            False              True          False           False   \n",
       "3             True             False          False           False   \n",
       "4            False             False          False           False   \n",
       "\n",
       "   job_retired  job_self-employed  job_services  job_student  job_technician  \\\n",
       "0        False              False         False        False           False   \n",
       "1        False              False         False        False            True   \n",
       "2        False              False         False        False           False   \n",
       "3        False              False         False        False           False   \n",
       "4        False              False         False        False           False   \n",
       "\n",
       "   job_unemployed  ...  month_jun  month_mar  month_may  month_nov  month_oct  \\\n",
       "0           False  ...      False      False       True      False      False   \n",
       "1           False  ...      False      False       True      False      False   \n",
       "2           False  ...      False      False       True      False      False   \n",
       "3           False  ...      False      False       True      False      False   \n",
       "4           False  ...      False      False       True      False      False   \n",
       "\n",
       "   month_sep  poutcome_other  poutcome_success  poutcome_unknown  y_yes  \n",
       "0      False           False             False              True  False  \n",
       "1      False           False             False              True  False  \n",
       "2      False           False             False              True  False  \n",
       "3      False           False             False              True  False  \n",
       "4      False           False             False              True  False  \n",
       "\n",
       "[5 rows x 36 columns]"
      ]
     },
     "execution_count": 71,
     "metadata": {},
     "output_type": "execute_result"
    }
   ],
   "source": [
    "dataset_categorical.head()"
   ]
  },
  {
   "cell_type": "code",
   "execution_count": 73,
   "id": "9b935304-632f-4eff-845f-3e2f8da8b1aa",
   "metadata": {},
   "outputs": [
    {
     "data": {
      "text/plain": [
       "pandas.core.frame.DataFrame"
      ]
     },
     "execution_count": 73,
     "metadata": {},
     "output_type": "execute_result"
    }
   ],
   "source": [
    "type(X)"
   ]
  },
  {
   "cell_type": "code",
   "execution_count": 75,
   "id": "a9a42895-b2fd-4d55-b05b-6554756ae4a2",
   "metadata": {},
   "outputs": [
    {
     "data": {
      "text/plain": [
       "pandas.core.frame.DataFrame"
      ]
     },
     "execution_count": 75,
     "metadata": {},
     "output_type": "execute_result"
    }
   ],
   "source": [
    "type(dataset_categorical)"
   ]
  },
  {
   "cell_type": "code",
   "execution_count": 77,
   "id": "7f9d1710-e2e0-4e3f-9148-5e3a5bf7aea3",
   "metadata": {},
   "outputs": [],
   "source": [
    "#joining numerical and categorical datasets\n",
    "final_dataset = pd.concat([X, dataset_categorical], axis = 1)"
   ]
  },
  {
   "cell_type": "code",
   "execution_count": 79,
   "id": "eb769138-b455-4657-869a-92acc3fdd99c",
   "metadata": {},
   "outputs": [
    {
     "data": {
      "text/html": [
       "<div>\n",
       "<style scoped>\n",
       "    .dataframe tbody tr th:only-of-type {\n",
       "        vertical-align: middle;\n",
       "    }\n",
       "\n",
       "    .dataframe tbody tr th {\n",
       "        vertical-align: top;\n",
       "    }\n",
       "\n",
       "    .dataframe thead th {\n",
       "        text-align: right;\n",
       "    }\n",
       "</style>\n",
       "<table border=\"1\" class=\"dataframe\">\n",
       "  <thead>\n",
       "    <tr style=\"text-align: right;\">\n",
       "      <th></th>\n",
       "      <th>age</th>\n",
       "      <th>balance</th>\n",
       "      <th>day</th>\n",
       "      <th>duration</th>\n",
       "      <th>campaign</th>\n",
       "      <th>pdays</th>\n",
       "      <th>previous</th>\n",
       "      <th>job_blue-collar</th>\n",
       "      <th>job_entrepreneur</th>\n",
       "      <th>job_housemaid</th>\n",
       "      <th>...</th>\n",
       "      <th>month_jun</th>\n",
       "      <th>month_mar</th>\n",
       "      <th>month_may</th>\n",
       "      <th>month_nov</th>\n",
       "      <th>month_oct</th>\n",
       "      <th>month_sep</th>\n",
       "      <th>poutcome_other</th>\n",
       "      <th>poutcome_success</th>\n",
       "      <th>poutcome_unknown</th>\n",
       "      <th>y_yes</th>\n",
       "    </tr>\n",
       "  </thead>\n",
       "  <tbody>\n",
       "    <tr>\n",
       "      <th>0</th>\n",
       "      <td>58</td>\n",
       "      <td>2143</td>\n",
       "      <td>5</td>\n",
       "      <td>261</td>\n",
       "      <td>1</td>\n",
       "      <td>-1</td>\n",
       "      <td>0</td>\n",
       "      <td>False</td>\n",
       "      <td>False</td>\n",
       "      <td>False</td>\n",
       "      <td>...</td>\n",
       "      <td>False</td>\n",
       "      <td>False</td>\n",
       "      <td>True</td>\n",
       "      <td>False</td>\n",
       "      <td>False</td>\n",
       "      <td>False</td>\n",
       "      <td>False</td>\n",
       "      <td>False</td>\n",
       "      <td>True</td>\n",
       "      <td>False</td>\n",
       "    </tr>\n",
       "    <tr>\n",
       "      <th>1</th>\n",
       "      <td>44</td>\n",
       "      <td>29</td>\n",
       "      <td>5</td>\n",
       "      <td>151</td>\n",
       "      <td>1</td>\n",
       "      <td>-1</td>\n",
       "      <td>0</td>\n",
       "      <td>False</td>\n",
       "      <td>False</td>\n",
       "      <td>False</td>\n",
       "      <td>...</td>\n",
       "      <td>False</td>\n",
       "      <td>False</td>\n",
       "      <td>True</td>\n",
       "      <td>False</td>\n",
       "      <td>False</td>\n",
       "      <td>False</td>\n",
       "      <td>False</td>\n",
       "      <td>False</td>\n",
       "      <td>True</td>\n",
       "      <td>False</td>\n",
       "    </tr>\n",
       "    <tr>\n",
       "      <th>2</th>\n",
       "      <td>33</td>\n",
       "      <td>2</td>\n",
       "      <td>5</td>\n",
       "      <td>76</td>\n",
       "      <td>1</td>\n",
       "      <td>-1</td>\n",
       "      <td>0</td>\n",
       "      <td>False</td>\n",
       "      <td>True</td>\n",
       "      <td>False</td>\n",
       "      <td>...</td>\n",
       "      <td>False</td>\n",
       "      <td>False</td>\n",
       "      <td>True</td>\n",
       "      <td>False</td>\n",
       "      <td>False</td>\n",
       "      <td>False</td>\n",
       "      <td>False</td>\n",
       "      <td>False</td>\n",
       "      <td>True</td>\n",
       "      <td>False</td>\n",
       "    </tr>\n",
       "    <tr>\n",
       "      <th>3</th>\n",
       "      <td>47</td>\n",
       "      <td>1506</td>\n",
       "      <td>5</td>\n",
       "      <td>92</td>\n",
       "      <td>1</td>\n",
       "      <td>-1</td>\n",
       "      <td>0</td>\n",
       "      <td>True</td>\n",
       "      <td>False</td>\n",
       "      <td>False</td>\n",
       "      <td>...</td>\n",
       "      <td>False</td>\n",
       "      <td>False</td>\n",
       "      <td>True</td>\n",
       "      <td>False</td>\n",
       "      <td>False</td>\n",
       "      <td>False</td>\n",
       "      <td>False</td>\n",
       "      <td>False</td>\n",
       "      <td>True</td>\n",
       "      <td>False</td>\n",
       "    </tr>\n",
       "    <tr>\n",
       "      <th>4</th>\n",
       "      <td>33</td>\n",
       "      <td>1</td>\n",
       "      <td>5</td>\n",
       "      <td>198</td>\n",
       "      <td>1</td>\n",
       "      <td>-1</td>\n",
       "      <td>0</td>\n",
       "      <td>False</td>\n",
       "      <td>False</td>\n",
       "      <td>False</td>\n",
       "      <td>...</td>\n",
       "      <td>False</td>\n",
       "      <td>False</td>\n",
       "      <td>True</td>\n",
       "      <td>False</td>\n",
       "      <td>False</td>\n",
       "      <td>False</td>\n",
       "      <td>False</td>\n",
       "      <td>False</td>\n",
       "      <td>True</td>\n",
       "      <td>False</td>\n",
       "    </tr>\n",
       "    <tr>\n",
       "      <th>...</th>\n",
       "      <td>...</td>\n",
       "      <td>...</td>\n",
       "      <td>...</td>\n",
       "      <td>...</td>\n",
       "      <td>...</td>\n",
       "      <td>...</td>\n",
       "      <td>...</td>\n",
       "      <td>...</td>\n",
       "      <td>...</td>\n",
       "      <td>...</td>\n",
       "      <td>...</td>\n",
       "      <td>...</td>\n",
       "      <td>...</td>\n",
       "      <td>...</td>\n",
       "      <td>...</td>\n",
       "      <td>...</td>\n",
       "      <td>...</td>\n",
       "      <td>...</td>\n",
       "      <td>...</td>\n",
       "      <td>...</td>\n",
       "      <td>...</td>\n",
       "    </tr>\n",
       "    <tr>\n",
       "      <th>45206</th>\n",
       "      <td>51</td>\n",
       "      <td>825</td>\n",
       "      <td>17</td>\n",
       "      <td>977</td>\n",
       "      <td>3</td>\n",
       "      <td>-1</td>\n",
       "      <td>0</td>\n",
       "      <td>False</td>\n",
       "      <td>False</td>\n",
       "      <td>False</td>\n",
       "      <td>...</td>\n",
       "      <td>False</td>\n",
       "      <td>False</td>\n",
       "      <td>False</td>\n",
       "      <td>True</td>\n",
       "      <td>False</td>\n",
       "      <td>False</td>\n",
       "      <td>False</td>\n",
       "      <td>False</td>\n",
       "      <td>True</td>\n",
       "      <td>True</td>\n",
       "    </tr>\n",
       "    <tr>\n",
       "      <th>45207</th>\n",
       "      <td>71</td>\n",
       "      <td>1729</td>\n",
       "      <td>17</td>\n",
       "      <td>456</td>\n",
       "      <td>2</td>\n",
       "      <td>-1</td>\n",
       "      <td>0</td>\n",
       "      <td>False</td>\n",
       "      <td>False</td>\n",
       "      <td>False</td>\n",
       "      <td>...</td>\n",
       "      <td>False</td>\n",
       "      <td>False</td>\n",
       "      <td>False</td>\n",
       "      <td>True</td>\n",
       "      <td>False</td>\n",
       "      <td>False</td>\n",
       "      <td>False</td>\n",
       "      <td>False</td>\n",
       "      <td>True</td>\n",
       "      <td>True</td>\n",
       "    </tr>\n",
       "    <tr>\n",
       "      <th>45208</th>\n",
       "      <td>72</td>\n",
       "      <td>5715</td>\n",
       "      <td>17</td>\n",
       "      <td>1127</td>\n",
       "      <td>5</td>\n",
       "      <td>184</td>\n",
       "      <td>3</td>\n",
       "      <td>False</td>\n",
       "      <td>False</td>\n",
       "      <td>False</td>\n",
       "      <td>...</td>\n",
       "      <td>False</td>\n",
       "      <td>False</td>\n",
       "      <td>False</td>\n",
       "      <td>True</td>\n",
       "      <td>False</td>\n",
       "      <td>False</td>\n",
       "      <td>False</td>\n",
       "      <td>True</td>\n",
       "      <td>False</td>\n",
       "      <td>True</td>\n",
       "    </tr>\n",
       "    <tr>\n",
       "      <th>45209</th>\n",
       "      <td>57</td>\n",
       "      <td>668</td>\n",
       "      <td>17</td>\n",
       "      <td>508</td>\n",
       "      <td>4</td>\n",
       "      <td>-1</td>\n",
       "      <td>0</td>\n",
       "      <td>True</td>\n",
       "      <td>False</td>\n",
       "      <td>False</td>\n",
       "      <td>...</td>\n",
       "      <td>False</td>\n",
       "      <td>False</td>\n",
       "      <td>False</td>\n",
       "      <td>True</td>\n",
       "      <td>False</td>\n",
       "      <td>False</td>\n",
       "      <td>False</td>\n",
       "      <td>False</td>\n",
       "      <td>True</td>\n",
       "      <td>False</td>\n",
       "    </tr>\n",
       "    <tr>\n",
       "      <th>45210</th>\n",
       "      <td>37</td>\n",
       "      <td>2971</td>\n",
       "      <td>17</td>\n",
       "      <td>361</td>\n",
       "      <td>2</td>\n",
       "      <td>188</td>\n",
       "      <td>11</td>\n",
       "      <td>False</td>\n",
       "      <td>True</td>\n",
       "      <td>False</td>\n",
       "      <td>...</td>\n",
       "      <td>False</td>\n",
       "      <td>False</td>\n",
       "      <td>False</td>\n",
       "      <td>True</td>\n",
       "      <td>False</td>\n",
       "      <td>False</td>\n",
       "      <td>True</td>\n",
       "      <td>False</td>\n",
       "      <td>False</td>\n",
       "      <td>False</td>\n",
       "    </tr>\n",
       "  </tbody>\n",
       "</table>\n",
       "<p>45211 rows × 43 columns</p>\n",
       "</div>"
      ],
      "text/plain": [
       "       age  balance  day  duration  campaign  pdays  previous  \\\n",
       "0       58     2143    5       261         1     -1         0   \n",
       "1       44       29    5       151         1     -1         0   \n",
       "2       33        2    5        76         1     -1         0   \n",
       "3       47     1506    5        92         1     -1         0   \n",
       "4       33        1    5       198         1     -1         0   \n",
       "...    ...      ...  ...       ...       ...    ...       ...   \n",
       "45206   51      825   17       977         3     -1         0   \n",
       "45207   71     1729   17       456         2     -1         0   \n",
       "45208   72     5715   17      1127         5    184         3   \n",
       "45209   57      668   17       508         4     -1         0   \n",
       "45210   37     2971   17       361         2    188        11   \n",
       "\n",
       "       job_blue-collar  job_entrepreneur  job_housemaid  ...  month_jun  \\\n",
       "0                False             False          False  ...      False   \n",
       "1                False             False          False  ...      False   \n",
       "2                False              True          False  ...      False   \n",
       "3                 True             False          False  ...      False   \n",
       "4                False             False          False  ...      False   \n",
       "...                ...               ...            ...  ...        ...   \n",
       "45206            False             False          False  ...      False   \n",
       "45207            False             False          False  ...      False   \n",
       "45208            False             False          False  ...      False   \n",
       "45209             True             False          False  ...      False   \n",
       "45210            False              True          False  ...      False   \n",
       "\n",
       "       month_mar  month_may  month_nov  month_oct  month_sep  poutcome_other  \\\n",
       "0          False       True      False      False      False           False   \n",
       "1          False       True      False      False      False           False   \n",
       "2          False       True      False      False      False           False   \n",
       "3          False       True      False      False      False           False   \n",
       "4          False       True      False      False      False           False   \n",
       "...          ...        ...        ...        ...        ...             ...   \n",
       "45206      False      False       True      False      False           False   \n",
       "45207      False      False       True      False      False           False   \n",
       "45208      False      False       True      False      False           False   \n",
       "45209      False      False       True      False      False           False   \n",
       "45210      False      False       True      False      False            True   \n",
       "\n",
       "       poutcome_success  poutcome_unknown  y_yes  \n",
       "0                 False              True  False  \n",
       "1                 False              True  False  \n",
       "2                 False              True  False  \n",
       "3                 False              True  False  \n",
       "4                 False              True  False  \n",
       "...                 ...               ...    ...  \n",
       "45206             False              True   True  \n",
       "45207             False              True   True  \n",
       "45208              True             False   True  \n",
       "45209             False              True  False  \n",
       "45210             False             False  False  \n",
       "\n",
       "[45211 rows x 43 columns]"
      ]
     },
     "execution_count": 79,
     "metadata": {},
     "output_type": "execute_result"
    }
   ],
   "source": [
    "final_dataset"
   ]
  },
  {
   "cell_type": "code",
   "execution_count": 85,
   "id": "2fb0ea1e-d4a1-4280-8ce4-4a0edaf52c78",
   "metadata": {},
   "outputs": [
    {
     "data": {
      "text/plain": [
       "age                    int64\n",
       "balance                int64\n",
       "day                    int64\n",
       "duration               int64\n",
       "campaign               int64\n",
       "pdays                  int64\n",
       "previous               int64\n",
       "job_blue-collar         bool\n",
       "job_entrepreneur        bool\n",
       "job_housemaid           bool\n",
       "job_management          bool\n",
       "job_retired             bool\n",
       "job_self-employed       bool\n",
       "job_services            bool\n",
       "job_student             bool\n",
       "job_technician          bool\n",
       "job_unemployed          bool\n",
       "job_unknown             bool\n",
       "marital_married         bool\n",
       "marital_single          bool\n",
       "education_secondary     bool\n",
       "education_tertiary      bool\n",
       "education_unknown       bool\n",
       "default_yes             bool\n",
       "housing_yes             bool\n",
       "loan_yes                bool\n",
       "contact_telephone       bool\n",
       "contact_unknown         bool\n",
       "month_aug               bool\n",
       "month_dec               bool\n",
       "month_feb               bool\n",
       "month_jan               bool\n",
       "month_jul               bool\n",
       "month_jun               bool\n",
       "month_mar               bool\n",
       "month_may               bool\n",
       "month_nov               bool\n",
       "month_oct               bool\n",
       "month_sep               bool\n",
       "poutcome_other          bool\n",
       "poutcome_success        bool\n",
       "poutcome_unknown        bool\n",
       "y_yes                   bool\n",
       "dtype: object"
      ]
     },
     "execution_count": 85,
     "metadata": {},
     "output_type": "execute_result"
    }
   ],
   "source": [
    "final_dataset.dtypes"
   ]
  },
  {
   "cell_type": "code",
   "execution_count": 87,
   "id": "857b08ce-5e7c-48cd-bfc8-8a5bc37d69b9",
   "metadata": {},
   "outputs": [],
   "source": [
    "#getting names of columns\n",
    "feature_columns = list(final_dataset.columns.values)\n",
    "feature_columns = feature_columns[:-1]"
   ]
  },
  {
   "cell_type": "code",
   "execution_count": 89,
   "id": "1f710a00-b0e5-4466-8350-082f9ae76b18",
   "metadata": {},
   "outputs": [
    {
     "data": {
      "text/plain": [
       "['age',\n",
       " 'balance',\n",
       " 'day',\n",
       " 'duration',\n",
       " 'campaign',\n",
       " 'pdays',\n",
       " 'previous',\n",
       " 'job_blue-collar',\n",
       " 'job_entrepreneur',\n",
       " 'job_housemaid',\n",
       " 'job_management',\n",
       " 'job_retired',\n",
       " 'job_self-employed',\n",
       " 'job_services',\n",
       " 'job_student',\n",
       " 'job_technician',\n",
       " 'job_unemployed',\n",
       " 'job_unknown',\n",
       " 'marital_married',\n",
       " 'marital_single',\n",
       " 'education_secondary',\n",
       " 'education_tertiary',\n",
       " 'education_unknown',\n",
       " 'default_yes',\n",
       " 'housing_yes',\n",
       " 'loan_yes',\n",
       " 'contact_telephone',\n",
       " 'contact_unknown',\n",
       " 'month_aug',\n",
       " 'month_dec',\n",
       " 'month_feb',\n",
       " 'month_jan',\n",
       " 'month_jul',\n",
       " 'month_jun',\n",
       " 'month_mar',\n",
       " 'month_may',\n",
       " 'month_nov',\n",
       " 'month_oct',\n",
       " 'month_sep',\n",
       " 'poutcome_other',\n",
       " 'poutcome_success',\n",
       " 'poutcome_unknown']"
      ]
     },
     "execution_count": 89,
     "metadata": {},
     "output_type": "execute_result"
    }
   ],
   "source": [
    "feature_columns"
   ]
  },
  {
   "cell_type": "markdown",
   "id": "8095d6a0-5e9a-427a-831c-ac6d465e8ee7",
   "metadata": {},
   "source": [
    "### Model 2"
   ]
  },
  {
   "cell_type": "code",
   "execution_count": 92,
   "id": "773b0ca5-0fb8-404e-8e43-b7c5ac3f60be",
   "metadata": {},
   "outputs": [],
   "source": [
    "#isolate the x and y variables part 2\n",
    "y = final_dataset.iloc[:, -1].values\n",
    "X = final_dataset.iloc[:, :-1].values"
   ]
  },
  {
   "cell_type": "code",
   "execution_count": 94,
   "id": "a30ca22f-6d82-4c03-8b5b-0da4d420845b",
   "metadata": {},
   "outputs": [],
   "source": [
    "#split dataset into training and test set\n",
    "X_train, X_test, y_train, y_test = train_test_split(X, y,\n",
    "                                                    test_size =0.2,\n",
    "                                                    random_state=1502)"
   ]
  },
  {
   "cell_type": "code",
   "execution_count": 96,
   "id": "c98d80af-ce3d-4031-b95a-6bdf32e11422",
   "metadata": {},
   "outputs": [
    {
     "name": "stdout",
     "output_type": "stream",
     "text": [
      "X_train : 36168\n",
      "X_tests : 9043\n",
      "y_train : 36168\n",
      "y_tests : 9043\n"
     ]
    }
   ],
   "source": [
    "print(\"X_train :\" , len(X_train))\n",
    "print(\"X_tests :\" , len(X_test))\n",
    "print(\"y_train :\" , len(y_train))\n",
    "print(\"y_tests :\" , len(y_test))"
   ]
  },
  {
   "cell_type": "code",
   "execution_count": 98,
   "id": "7d4768fe-d176-437d-b16c-136dcc9dfe4f",
   "metadata": {},
   "outputs": [
    {
     "data": {
      "text/plain": [
       "array([[58, 2143, 5, ..., False, False, True],\n",
       "       [44, 29, 5, ..., False, False, True],\n",
       "       [33, 2, 5, ..., False, False, True],\n",
       "       ...,\n",
       "       [72, 5715, 17, ..., False, True, False],\n",
       "       [57, 668, 17, ..., False, False, True],\n",
       "       [37, 2971, 17, ..., True, False, False]], dtype=object)"
      ]
     },
     "execution_count": 98,
     "metadata": {},
     "output_type": "execute_result"
    }
   ],
   "source": [
    "X"
   ]
  },
  {
   "cell_type": "code",
   "execution_count": 100,
   "id": "4dbbcd62-f8c8-4b04-a9c0-a0ecbac8077f",
   "metadata": {},
   "outputs": [],
   "source": [
    "#create xgboost matrices part 2\n",
    "Train = xgb.DMatrix(X_train, label = y_train, feature_names = feature_columns)\n",
    "Test = xgb.DMatrix(X_test, label = y_test, feature_names = feature_columns)"
   ]
  },
  {
   "cell_type": "code",
   "execution_count": 102,
   "id": "66a561a0-34c2-429e-bb59-1ac12e414f96",
   "metadata": {},
   "outputs": [],
   "source": [
    "#set the parameters part 2\n",
    "parameters2 = {'learning_rate': 0.3,\n",
    "               'max_depth': 2,\n",
    "               'colsample_bytree': 1,\n",
    "               'subsample': 1,\n",
    "               'min_child_weight': 1,\n",
    "               'gamma': 0, \n",
    "               'random_state': 1502,\n",
    "               'eval_metric': \"auc\",\n",
    "               'objective': \"binary:logistic\"}"
   ]
  },
  {
   "cell_type": "code",
   "execution_count": 104,
   "id": "b1c0f6ae-e3fd-4d9f-932e-6736a40dc281",
   "metadata": {},
   "outputs": [
    {
     "name": "stdout",
     "output_type": "stream",
     "text": [
      "[0]\tYes-auc:0.74351\n",
      "[50]\tYes-auc:0.91916\n",
      "[100]\tYes-auc:0.92513\n",
      "[150]\tYes-auc:0.92809\n",
      "[199]\tYes-auc:0.92905\n"
     ]
    }
   ],
   "source": [
    "#run XGBoost\n",
    "model2 = xgb.train(params = parameters2,\n",
    "                   dtrain = Train,\n",
    "                   num_boost_round = 200,\n",
    "                   evals = [(Test, \"Yes\")],\n",
    "                   verbose_eval = 50)"
   ]
  },
  {
   "cell_type": "code",
   "execution_count": 106,
   "id": "c8615604-ee8a-4c9b-85f3-b440c6a45b66",
   "metadata": {},
   "outputs": [],
   "source": [
    "#Predictions part 2\n",
    "predictions2 = model2.predict(Test)\n",
    "predictions2 = np.where(predictions2 > 0.5, 1, 0)"
   ]
  },
  {
   "cell_type": "code",
   "execution_count": 110,
   "id": "baf6ae2f-9403-438f-91c4-530b27c4f0dd",
   "metadata": {},
   "outputs": [
    {
     "name": "stdout",
     "output_type": "stream",
     "text": [
      "[[7676  266]\n",
      " [ 628  473]]\n"
     ]
    }
   ],
   "source": [
    "#Confusion Matrix\n",
    "confusion_matrix2 = confusion_matrix(y_test, predictions2)\n",
    "print(confusion_matrix2)"
   ]
  },
  {
   "cell_type": "code",
   "execution_count": 112,
   "id": "2b311c3e-8a68-44a8-b6a6-ba81b4b5236c",
   "metadata": {},
   "outputs": [
    {
     "name": "stdout",
     "output_type": "stream",
     "text": [
      "              precision    recall  f1-score   support\n",
      "\n",
      "       False       0.92      0.97      0.94      7942\n",
      "        True       0.64      0.43      0.51      1101\n",
      "\n",
      "    accuracy                           0.90      9043\n",
      "   macro avg       0.78      0.70      0.73      9043\n",
      "weighted avg       0.89      0.90      0.89      9043\n",
      "\n"
     ]
    }
   ],
   "source": [
    "report2 = classification_report(y_test, predictions2)\n",
    "print(report2)"
   ]
  },
  {
   "cell_type": "markdown",
   "id": "0291ccbe-fe51-40ea-bf32-8309761856b0",
   "metadata": {},
   "source": [
    "Parallel processing"
   ]
  },
  {
   "cell_type": "code",
   "execution_count": 114,
   "id": "7ad34c3a-fee6-4da3-b9a0-3ab833598f48",
   "metadata": {},
   "outputs": [
    {
     "data": {
      "text/plain": [
       "8"
      ]
     },
     "execution_count": 114,
     "metadata": {},
     "output_type": "execute_result"
    }
   ],
   "source": [
    "#checking how many cores we have\n",
    "import multiprocessing\n",
    "multiprocessing.cpu_count()"
   ]
  },
  {
   "cell_type": "code",
   "execution_count": 116,
   "id": "084a6583-a94a-4ca8-abf9-4461627c016b",
   "metadata": {},
   "outputs": [],
   "source": [
    "#setting the cross validation parameters\n",
    "from sklearn.model_selection import KFold\n",
    "tune_control = KFold(n_splits = 5,\n",
    "                     shuffle = True,\n",
    "                     random_state = 1502).split(X = X_train,\n",
    "                                                y = y_train)"
   ]
  },
  {
   "cell_type": "code",
   "execution_count": 118,
   "id": "dc3839e6-e357-4574-87db-c5163946b2d3",
   "metadata": {},
   "outputs": [],
   "source": [
    "#set parameter tuning\n",
    "#set the parameters part 2\n",
    "tune_grid = {'learning_rate': [0.05, 0.3],\n",
    "               'max_depth': range(2, 9, 2),\n",
    "               'colsample_bytree': [0.5, 1],\n",
    "               'subsample': [1],\n",
    "               'min_child_weight': [1],\n",
    "               'gamma': [0], \n",
    "               'random_state': [1502],\n",
    "               'n_estimators': range(200, 2000, 200),\n",
    "               'booster': [\"gbtree\"]}"
   ]
  },
  {
   "cell_type": "code",
   "execution_count": 120,
   "id": "786d967b-26a6-4e60-8e19-02d77cba1f64",
   "metadata": {},
   "outputs": [],
   "source": [
    "#State that we are doing a classification problem\n",
    "from xgboost import XGBClassifier\n",
    "classifier = XGBClassifier(objective = \"binary:logistic\")"
   ]
  },
  {
   "cell_type": "code",
   "execution_count": 122,
   "id": "0babfecc-f971-451b-8e39-6e83a25ea8e8",
   "metadata": {},
   "outputs": [],
   "source": [
    "#Cross Validation Assembly\n",
    "from sklearn.model_selection import GridSearchCV\n",
    "grid_search = GridSearchCV(estimator = classifier,\n",
    "                           param_grid = tune_grid,\n",
    "                            scoring = \"roc_auc\",\n",
    "                            n_jobs = 6,\n",
    "                            cv = tune_control,\n",
    "                            verbose = 5)"
   ]
  },
  {
   "cell_type": "code",
   "execution_count": 124,
   "id": "8c9b322e-01dd-4138-9873-c7c21269ecc6",
   "metadata": {},
   "outputs": [],
   "source": [
    "#Setting evaluation parameters\n",
    "evaluation_parameters = {\"early_stopping_rounds\": 100,\n",
    "                         \"eval_metric\": \"auc\",\n",
    "                         \"eval_set\": [(X_test, y_test)]}"
   ]
  },
  {
   "cell_type": "code",
   "execution_count": null,
   "id": "46d456f9-f265-4bdd-885a-d3e3a2bb2393",
   "metadata": {},
   "outputs": [],
   "source": [
    "#Hyperparameter tuning and cross validation\n",
    "tune_model = grid_search.fit(X = X_train,\n",
    "                             y = y_train,\n",
    "                             **evaluation_parameters)\n",
    "grid_search.best_params_, grid_search.best_score_\n",
    "\n",
    "## err"
   ]
  },
  {
   "cell_type": "markdown",
   "id": "88eca362-ea89-4659-8715-3b6e9558fa04",
   "metadata": {},
   "source": [
    "Parameter Tuning Round 2"
   ]
  },
  {
   "cell_type": "code",
   "execution_count": 128,
   "id": "5e951a5c-db8e-4435-a713-d72facdcb87b",
   "metadata": {},
   "outputs": [],
   "source": [
    "# Set the parameter tuning part 2\n",
    "tune_grid2 = {'learning_rate': [0.05],\n",
    "               'max_depth': [6],\n",
    "               'colsample_bytree': [0.5],\n",
    "               'subsample': [0.9, 1],\n",
    "               'min_child_weight': range(1,5,1),\n",
    "               'gamma': [0, 0.01], \n",
    "               'random_state': [1502],\n",
    "               'n_estimators': range(200, 2000, 200),\n",
    "               'booster': [\"gbtree\"]}"
   ]
  },
  {
   "cell_type": "code",
   "execution_count": 130,
   "id": "8e1e33ad-b0ef-4042-8a00-e267549ef0ca",
   "metadata": {},
   "outputs": [],
   "source": [
    "#Cross Validation Assembly\n",
    "from sklearn.model_selection import GridSearchCV\n",
    "grid_search2 = GridSearchCV(estimator = classifier,\n",
    "                           param_grid = tune_grid2,\n",
    "                            scoring = \"roc_auc\",\n",
    "                            n_jobs = 6,\n",
    "                            cv = tune_control,\n",
    "                            verbose = 5)"
   ]
  },
  {
   "cell_type": "code",
   "execution_count": null,
   "id": "a72f7bb4-5adc-4d0c-a200-a385c8861785",
   "metadata": {},
   "outputs": [],
   "source": [
    "#Hyperparameter tuning and cross validation\n",
    "tune_model2 = grid_search2.fit(X = X_train,\n",
    "                             y = y_train,\n",
    "                             **evaluation_parameters)\n",
    "grid_search2.best_params_, grid_search2.best_score_\n"
   ]
  },
  {
   "cell_type": "markdown",
   "id": "d0206c09-d571-49dc-a2b7-6ac65d23b9ba",
   "metadata": {},
   "source": [
    "## Final XGBoost Model"
   ]
  },
  {
   "cell_type": "code",
   "execution_count": 132,
   "id": "9dcb4a2a-440a-47c0-96b3-33c355b0af1a",
   "metadata": {},
   "outputs": [],
   "source": [
    "#set the parameters part 3\n",
    "parameters3 = {'learning_rate': 0.05,\n",
    "               'max_depth': 6,\n",
    "               'colsample_bytree': 0.5,\n",
    "               'subsample': 1,\n",
    "               'min_child_weight': 2,\n",
    "               'gamma': 0, \n",
    "               'random_state': 1502,\n",
    "               'eval_metric': \"auc\",\n",
    "               'objective': \"binary:logistic\"}"
   ]
  },
  {
   "cell_type": "code",
   "execution_count": 134,
   "id": "e2ec9ed0-3a58-432b-a062-12ffeb06d38d",
   "metadata": {},
   "outputs": [
    {
     "name": "stdout",
     "output_type": "stream",
     "text": [
      "[0]\tYes-auc:0.74004\n",
      "[50]\tYes-auc:0.92092\n",
      "[100]\tYes-auc:0.92686\n",
      "[150]\tYes-auc:0.93009\n",
      "[200]\tYes-auc:0.93126\n",
      "[250]\tYes-auc:0.93192\n",
      "[300]\tYes-auc:0.93218\n",
      "[350]\tYes-auc:0.93243\n",
      "[400]\tYes-auc:0.93241\n",
      "[450]\tYes-auc:0.93233\n",
      "[500]\tYes-auc:0.93245\n",
      "[550]\tYes-auc:0.93242\n",
      "[600]\tYes-auc:0.93228\n",
      "[650]\tYes-auc:0.93221\n",
      "[700]\tYes-auc:0.93212\n",
      "[750]\tYes-auc:0.93205\n",
      "[799]\tYes-auc:0.93175\n"
     ]
    }
   ],
   "source": [
    "#run XGBoost part 3\n",
    "model3 = xgb.train(params = parameters3,\n",
    "                   dtrain = Train,\n",
    "                   num_boost_round = 800,\n",
    "                   evals = [(Test, \"Yes\")],\n",
    "                   verbose_eval = 50)"
   ]
  },
  {
   "cell_type": "code",
   "execution_count": 136,
   "id": "fb35794f-51f5-4a06-b895-613d73c7fed0",
   "metadata": {},
   "outputs": [
    {
     "name": "stdout",
     "output_type": "stream",
     "text": [
      "9043\n",
      "9043\n"
     ]
    }
   ],
   "source": [
    "#Predictions part 3\n",
    "predictions3 = model3.predict(Test)\n",
    "print(len(predictions3))\n",
    "predictions3 = np.where(predictions3 > 0.5, 1, 0)\n",
    "print(len(predictions3))\n"
   ]
  },
  {
   "cell_type": "code",
   "execution_count": 140,
   "id": "5fd396ef-f25f-40f1-bfb6-bc2b48495101",
   "metadata": {},
   "outputs": [
    {
     "name": "stdout",
     "output_type": "stream",
     "text": [
      "[[7628  314]\n",
      " [ 577  524]]\n"
     ]
    }
   ],
   "source": [
    "#Confusion Matrix\n",
    "confusion_matrix3 = confusion_matrix(y_test, predictions3)\n",
    "print(confusion_matrix3)"
   ]
  },
  {
   "cell_type": "code",
   "execution_count": 142,
   "id": "2c7f1478-8f15-4155-bece-982130690cd7",
   "metadata": {},
   "outputs": [
    {
     "name": "stdout",
     "output_type": "stream",
     "text": [
      "              precision    recall  f1-score   support\n",
      "\n",
      "       False       0.93      0.96      0.94      7942\n",
      "        True       0.63      0.48      0.54      1101\n",
      "\n",
      "    accuracy                           0.90      9043\n",
      "   macro avg       0.78      0.72      0.74      9043\n",
      "weighted avg       0.89      0.90      0.90      9043\n",
      "\n"
     ]
    }
   ],
   "source": [
    "report3 = classification_report(y_test, predictions3)\n",
    "print(report3)"
   ]
  },
  {
   "cell_type": "code",
   "execution_count": 144,
   "id": "c0fcc31e-c4be-45ce-b10f-2d29ec36a405",
   "metadata": {},
   "outputs": [
    {
     "data": {
      "text/plain": [
       "<Axes: title={'center': 'Feature importance'}, xlabel='F score', ylabel='Features'>"
      ]
     },
     "execution_count": 144,
     "metadata": {},
     "output_type": "execute_result"
    },
    {
     "data": {
      "image/png": "[encoded data removed]",
      "text/plain": [
       "<Figure size 640x480 with 1 Axes>"
      ]
     },
     "metadata": {},
     "output_type": "display_data"
    }
   ],
   "source": [
    "#plot importances\n",
    "xgb.plot_importance(model3, max_num_features = 10)"
   ]
  },
  {
   "cell_type": "markdown",
   "id": "19e15952-ec80-4de4-89cc-fc6cd5f358a8",
   "metadata": {},
   "source": [
    "## SHAP"
   ]
  },
  {
   "cell_type": "code",
   "execution_count": 147,
   "id": "2f90a3e2-1163-4f9c-9729-e89853f98f82",
   "metadata": {},
   "outputs": [],
   "source": [
    "#Preparing SHAP\n",
    "#pip install shap\n",
    "#conda install -c conda-forge shap\n",
    "import shap\n",
    "explainer = shap.TreeExplainer(model3)\n",
    "shap_values = explainer.shap_values(X_test)"
   ]
  },
  {
   "cell_type": "code",
   "execution_count": 149,
   "id": "2553a958-59b4-4444-9bd6-a5023ec6b1ea",
   "metadata": {
    "editable": true,
    "slideshow": {
     "slide_type": ""
    },
    "tags": []
   },
   "outputs": [
    {
     "data": {
      "image/png": "[encoded data removed]",
      "text/plain": [
       "<Figure size 800x550 with 2 Axes>"
      ]
     },
     "metadata": {},
     "output_type": "display_data"
    }
   ],
   "source": [
    "#shap plotting\n",
    "shap.summary_plot(shap_values,\n",
    "                  X_test,\n",
    "                  feature_names = feature_columns,\n",
    "                  max_display = 10)\n"
   ]
  }
 ],
 "metadata": {
  "kernelspec": {
   "display_name": "Python 3 (ipykernel)",
   "language": "python",
   "name": "python3"
  },
  "language_info": {
   "codemirror_mode": {
    "name": "ipython",
    "version": 3
   },
   "file_extension": ".py",
   "mimetype": "text/x-python",
   "name": "python",
   "nbconvert_exporter": "python",
   "pygments_lexer": "ipython3",
   "version": "3.11.7"
  }
 },
 "nbformat": 4,
 "nbformat_minor": 5
}
